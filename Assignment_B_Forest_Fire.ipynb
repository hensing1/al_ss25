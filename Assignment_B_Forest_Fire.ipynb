{
 "cells": [
  {
   "cell_type": "markdown",
   "id": "be7a8ab6",
   "metadata": {},
   "source": [
    "# Programming Assignment B\n",
    "\n",
    "*Forest Fire*"
   ]
  },
  {
   "cell_type": "code",
   "execution_count": null,
   "id": "5e3bf37c",
   "metadata": {},
   "outputs": [
    {
     "data": {
      "image/png": "[encoded data removed]",
      "text/plain": [
       "<Figure size 640x480 with 1 Axes>"
      ]
     },
     "metadata": {},
     "output_type": "display_data"
    },
    {
     "ename": "KeyboardInterrupt",
     "evalue": "",
     "output_type": "error",
     "traceback": [
      "\u001b[0;31m---------------------------------------------------------------------------\u001b[0m",
      "\u001b[0;31mKeyboardInterrupt\u001b[0m                         Traceback (most recent call last)",
      "Cell \u001b[0;32mIn[27], line 58\u001b[0m\n\u001b[1;32m     56\u001b[0m plt\u001b[38;5;241m.\u001b[39mshow()\n\u001b[1;32m     57\u001b[0m grid \u001b[38;5;241m=\u001b[39m update(grid, \u001b[38;5;241m0.2\u001b[39m, \u001b[38;5;241m0.2\u001b[39m, \u001b[38;5;241m0.5\u001b[39m)\n\u001b[0;32m---> 58\u001b[0m time\u001b[38;5;241m.\u001b[39msleep(\u001b[38;5;241m1\u001b[39m)\n",
      "\u001b[0;31mKeyboardInterrupt\u001b[0m: "
     ]
    }
   ],
   "source": [
    "import numpy as np\n",
    "from numpy.random import rand\n",
    "import matplotlib.pyplot as plt\n",
    "from IPython.display import clear_output\n",
    "\n",
    "import time\n",
    "from enum import Enum\n",
    "\n",
    "States = Enum('States', [('Ashes', 0.55), ('Tree', 0.25), ('Fire', 0.15)])\n",
    "\n",
    "# Initialize grid\n",
    "# grid = np.random.choice([States.Ashes.value, States.Tree.value, States.Fire.value], size=(82, 101))\n",
    "grid = np.full((82, 101), States.Ashes.value)\n",
    "\n",
    "def neighborhood(grid, x, y):\n",
    "    return [\n",
    "        grid[x, y - 1],\n",
    "        grid[(x + 1) % grid.shape[0], y],\n",
    "        grid[x, (y + 1) % grid.shape[1]],\n",
    "        grid[x - 1, y]\n",
    "    ]\n",
    "\n",
    "\n",
    "def update(grid, p, f, q):\n",
    "    new_grid = grid.copy()\n",
    "\n",
    "    for i in range(grid.shape[0]):\n",
    "        for j in range(grid.shape[1]):\n",
    "\n",
    "            old_state = States(grid[i, j])\n",
    "            \n",
    "            if old_state == States.Fire:\n",
    "                new_grid[i, j] = States.Ashes.value\n",
    "\n",
    "            elif old_state == States.Ashes:\n",
    "                if (\n",
    "                    rand() < p  # spontaneous growth\n",
    "                    or (rand() < q and States.Tree.value in neighborhood(grid, i, j))  # induced growth\n",
    "                ):\n",
    "                    new_grid[i, j] = States.Tree.value\n",
    "\n",
    "            else:  # old_state == States.Tree\n",
    "                if (\n",
    "                    rand() < f  # spontaneous fire\n",
    "                    or States.Fire.value in neighborhood(grid, i, j)  # induced fire\n",
    "                ):\n",
    "                    new_grid[i, j] = States.Fire.value\n",
    "\n",
    "    return new_grid\n",
    "\n",
    "\n",
    "for _ in range(500):\n",
    "    clear_output(wait=True)\n",
    "    plt.imshow(grid, cmap='tab10', vmin=0, vmax=1)\n",
    "    plt.axis('off')\n",
    "    plt.show()\n",
    "    grid = update(grid, 0.2, 0.2, 0.5)\n",
    "    time.sleep(1)"
   ]
  }
 ],
 "metadata": {
  "kernelspec": {
   "display_name": "base",
   "language": "python",
   "name": "python3"
  },
  "language_info": {
   "codemirror_mode": {
    "name": "ipython",
    "version": 3
   },
   "file_extension": ".py",
   "mimetype": "text/x-python",
   "name": "python",
   "nbconvert_exporter": "python",
   "pygments_lexer": "ipython3",
   "version": "3.12.2"
  }
 },
 "nbformat": 4,
 "nbformat_minor": 5
}
