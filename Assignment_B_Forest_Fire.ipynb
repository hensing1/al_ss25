{
 "cells": [
  {
   "cell_type": "markdown",
   "id": "be7a8ab6",
   "metadata": {},
   "source": [
    "# Programming Assignment B\n",
    "\n",
    "*Forest Fire*"
   ]
  },
  {
   "cell_type": "code",
   "execution_count": 5,
   "id": "5e3bf37c",
   "metadata": {},
   "outputs": [
    {
     "data": {
      "image/png": "[encoded data removed]",
      "text/plain": [
       "<Figure size 640x480 with 1 Axes>"
      ]
     },
     "metadata": {},
     "output_type": "display_data"
    },
    {
     "ename": "KeyboardInterrupt",
     "evalue": "",
     "output_type": "error",
     "traceback": [
      "\u001b[0;31m---------------------------------------------------------------------------\u001b[0m",
      "\u001b[0;31mKeyboardInterrupt\u001b[0m                         Traceback (most recent call last)",
      "Cell \u001b[0;32mIn[5], line 73\u001b[0m\n\u001b[1;32m     71\u001b[0m plt\u001b[38;5;241m.\u001b[39mshow()\n\u001b[1;32m     72\u001b[0m grid \u001b[38;5;241m=\u001b[39m update(grid, spon_growth, ind_growth, spon_fire)\n\u001b[0;32m---> 73\u001b[0m time\u001b[38;5;241m.\u001b[39msleep(\u001b[38;5;241m.1\u001b[39m)\n",
      "\u001b[0;31mKeyboardInterrupt\u001b[0m: "
     ]
    }
   ],
   "source": [
    "import numpy as np\n",
    "from numpy.random import rand\n",
    "import matplotlib.pyplot as plt\n",
    "import matplotlib.animation as animation\n",
    "\n",
    "from IPython.display import clear_output\n",
    "\n",
    "import time\n",
    "from enum import Enum\n",
    "\n",
    "States = Enum('States', [('Ashes', 0.55), ('Tree', 0.25), ('Fire', 0.15)])\n",
    "\n",
    "# grid = np.random.choice([States.Ashes.value, States.Tree.value, States.Fire.value], size=(82, 101))\n",
    "grid = np.full((82, 101), States.Ashes.value)\n",
    "running = True\n",
    "\n",
    "def neighborhood(grid, x, y):\n",
    "    return [\n",
    "        grid[x, y - 1],\n",
    "        grid[(x + 1) % grid.shape[0], y],\n",
    "        grid[x, (y + 1) % grid.shape[1]],\n",
    "        grid[x - 1, y]\n",
    "    ]\n",
    "\n",
    "\n",
    "def update(grid, p, q, f):\n",
    "    new_grid = grid.copy()\n",
    "\n",
    "    for i in range(grid.shape[0]):\n",
    "        for j in range(grid.shape[1]):\n",
    "\n",
    "            old_state = States(grid[i, j])\n",
    "            \n",
    "            if old_state == States.Fire:\n",
    "                new_grid[i, j] = States.Ashes.value\n",
    "\n",
    "            elif old_state == States.Ashes:\n",
    "                if (\n",
    "                    rand() < p  # spontaneous growth\n",
    "                    or (rand() < q and States.Tree.value in neighborhood(grid, i, j))  # induced growth\n",
    "                ):\n",
    "                    new_grid[i, j] = States.Tree.value\n",
    "\n",
    "            else:  # old_state == States.Tree\n",
    "                if (\n",
    "                    rand() < f  # spontaneous fire\n",
    "                    or States.Fire.value in neighborhood(grid, i, j)  # induced fire\n",
    "                ):\n",
    "                    new_grid[i, j] = States.Fire.value\n",
    "\n",
    "    return new_grid\n",
    "\n",
    "\n",
    "def input_or_default(message, default):\n",
    "    try:\n",
    "        return float(input(message))\n",
    "    except ValueError:\n",
    "        return default\n",
    "    \n",
    "\n",
    "defaults = [0.001, 0.5, 0.0001]\n",
    "spon_growth = input_or_default(f\"Choose p (prob. of spontaneous growth, e.g. {defaults[0]}): \", defaults[0])\n",
    "ind_growth = input_or_default(f\"Choose q (prob. of induced growth, e.g. {defaults[1]}): \", defaults[1])\n",
    "spon_fire = input_or_default(f\"Choose f (prob. of spontaneous fire, e.g. {defaults[2]})\", defaults[2])\n",
    "\n",
    "while running:\n",
    "    clear_output(wait=True)\n",
    "    # print(f\"Parameters: p={spon_growth}, q={ind_growth}, f={spon_fire}\")\n",
    "    plt.imshow(grid, cmap='tab10', vmin=0, vmax=1)\n",
    "    plt.axis('off')\n",
    "    plt.show()\n",
    "    grid = update(grid, spon_growth, ind_growth, spon_fire)\n",
    "    time.sleep(.1)\n"
   ]
  },
  {
   "cell_type": "code",
   "execution_count": 2,
   "id": "c579a878",
   "metadata": {},
   "outputs": [
    {
     "ename": "ValueError",
     "evalue": "could not convert string to float: ''",
     "output_type": "error",
     "traceback": [
      "\u001b[0;31m---------------------------------------------------------------------------\u001b[0m",
      "\u001b[0;31mValueError\u001b[0m                                Traceback (most recent call last)",
      "Cell \u001b[0;32mIn[2], line 1\u001b[0m\n\u001b[0;32m----> 1\u001b[0m \u001b[38;5;28mfloat\u001b[39m(\u001b[38;5;124m\"\u001b[39m\u001b[38;5;124m\"\u001b[39m)\n",
      "\u001b[0;31mValueError\u001b[0m: could not convert string to float: ''"
     ]
    }
   ],
   "source": [
    "float(\"\")"
   ]
  },
  {
   "cell_type": "code",
   "execution_count": null,
   "id": "777c168c",
   "metadata": {},
   "outputs": [],
   "source": []
  }
 ],
 "metadata": {
  "kernelspec": {
   "display_name": "base",
   "language": "python",
   "name": "python3"
  },
  "language_info": {
   "codemirror_mode": {
    "name": "ipython",
    "version": 3
   },
   "file_extension": ".py",
   "mimetype": "text/x-python",
   "name": "python",
   "nbconvert_exporter": "python",
   "pygments_lexer": "ipython3",
   "version": "3.12.2"
  }
 },
 "nbformat": 4,
 "nbformat_minor": 5
}
